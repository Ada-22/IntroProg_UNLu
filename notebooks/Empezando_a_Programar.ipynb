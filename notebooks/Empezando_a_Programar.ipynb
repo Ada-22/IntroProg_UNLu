{
  "nbformat": 4,
  "nbformat_minor": 0,
  "metadata": {
    "colab": {
      "name": "Empezando a Programar.ipynb",
      "provenance": [],
      "authorship_tag": "ABX9TyPiJXYoWgNHwsj3dmYJGavT",
      "include_colab_link": true
    },
    "kernelspec": {
      "name": "python3",
      "display_name": "Python 3"
    }
  },
  "cells": [
    {
      "cell_type": "markdown",
      "metadata": {
        "id": "view-in-github",
        "colab_type": "text"
      },
      "source": [
        "<a href=\"https://colab.research.google.com/github/jumafernandez/IntroProg_UNLu/blob/master/notebooks/Empezando_a_Programar.ipynb\" target=\"_parent\"><img src=\"https://colab.research.google.com/assets/colab-badge.svg\" alt=\"Open In Colab\"/></a>"
      ]
    },
    {
      "cell_type": "markdown",
      "metadata": {
        "id": "DtqRz2JHB0XR",
        "colab_type": "text"
      },
      "source": [
        "# Empezando a Programar\n",
        "---\n",
        "En este curso vamos a aprender los fundamentos básicos de la Programación, utilizando Python como lenguaje. \n",
        "Python es un lenguaje de programación interpretado cuya filosofía hace hincapié en la legibilidad de su código.2​ Se trata de un lenguaje de programación multiparadigma, ya que soporta orientación a objetos, programación imperativa y, en menor medida, programación funcional. Es un lenguaje interpretado, dinámico y multiplataforma. (Fuente: [Wikipedia](https://es.wikipedia.org/wiki/Python))\n",
        "<br />\n",
        "<br />\n",
        "\n",
        "__Contenidos de esta Guía__\n",
        "\n",
        "---\n",
        "1. [Ejecutando Python](https://https://colab.research.google.com/drive/16gFiemzL-cm7ruyT_ZrNp3R2csFpII3S#scrollTo=p7tYuHrPRlXs&line=8&uniqifier=1)\n",
        "2. \"Hola Mundo\" en Python\n",
        "3. Comentarios en Python\n",
        "4. Salidas básicas en Pantalla\n",
        "5. Importación de Módulos\n",
        "6. Errores de sintaxis, de tiempo de ejecución (Runtime) y lógicos\n",
        "7. Entrada de Datos Básica"
      ]
    },
    {
      "cell_type": "markdown",
      "metadata": {
        "id": "p7tYuHrPRlXs",
        "colab_type": "text"
      },
      "source": [
        "####__Ejecutando Python__\n",
        "Para ejecutar Python, previamente debemos:\n",
        "* Instalar la versión 3.7 de Python, descargándola de [python.org](https://python.org),\n",
        "* Instalar [Visual Studio Code](https://code.visualstudio.com/download) o el Editor de código que prefieras,\n",
        "* Iniciar tu Editor de Código,\n",
        "* Editar tu archivo de texto y guardarlo con la extensión _.py_,\n",
        "* Ejecutar tu código.\n"
      ]
    },
    {
      "cell_type": "code",
      "metadata": {
        "id": "rDBAbBnH_3Sg",
        "colab_type": "code",
        "colab": {}
      },
      "source": [
        ""
      ],
      "execution_count": 0,
      "outputs": []
    }
  ]
}