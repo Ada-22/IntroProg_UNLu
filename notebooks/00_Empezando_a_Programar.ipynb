{
  "nbformat": 4,
  "nbformat_minor": 0,
  "metadata": {
    "colab": {
      "name": "00_Empezando a Programar.ipynb",
      "provenance": [],
      "authorship_tag": "ABX9TyM6dld+GkmM1n3Bvan8/tJr",
      "include_colab_link": true
    },
    "kernelspec": {
      "name": "python3",
      "display_name": "Python 3"
    }
  },
  "cells": [
    {
      "cell_type": "markdown",
      "metadata": {
        "id": "view-in-github",
        "colab_type": "text"
      },
      "source": [
        "<a href=\"https://colab.research.google.com/github/jumafernandez/IntroProg_UNLu/blob/master/notebooks/00_Empezando_a_Programar.ipynb\" target=\"_parent\"><img src=\"https://colab.research.google.com/assets/colab-badge.svg\" alt=\"Open In Colab\"/></a>"
      ]
    },
    {
      "cell_type": "markdown",
      "metadata": {
        "id": "DtqRz2JHB0XR",
        "colab_type": "text"
      },
      "source": [
        "# Empezando a Programar\n",
        "---\n",
        "En este curso vamos a aprender los fundamentos básicos de la Programación, utilizando Python como lenguaje. \n",
        "Python es un lenguaje de programación interpretado cuya filosofía hace hincapié en la legibilidad de su código.2​ Se trata de un lenguaje de programación multiparadigma, ya que soporta orientación a objetos, programación imperativa y, en menor medida, programación funcional. Es un lenguaje interpretado, dinámico y multiplataforma. (Fuente: [Wikipedia](https://es.wikipedia.org/wiki/Python))\n",
        "<br />\n",
        "<br />\n",
        "\n",
        "## Contenidos de esta Guía\n",
        "\n",
        "1. Ejecutando Python\n",
        "1. \"Hola Mundo\" en Python\n",
        "1. Comentarios en Python\n",
        "1. Salidas básicas en Pantalla\n",
        "1. Importación de Módulos\n",
        "1. Errores de sintaxis, de tiempo de ejecución (runtime) y lógicos (o semánticos)\n",
        "1. Entrada de Datos Básica"
      ]
    },
    {
      "cell_type": "markdown",
      "metadata": {
        "id": "p7tYuHrPRlXs",
        "colab_type": "text"
      },
      "source": [
        "### 1. Ejecutando Python\n",
        "Para ejecutar Python, previamente debemos:\n",
        "* Instalar la versión 3.7 de Python, descargándola de [python.org](https://python.org),\n",
        "* Instalar [Visual Studio Code](https://code.visualstudio.com/download) o el Editor de código que prefieras (PyCharm, Geany,Vi, etc)\n",
        "* Iniciar tu Editor de Código,\n",
        "* Editar tu archivo de texto y guardarlo con la extensión _.py_,\n",
        "* Ejecutar tu código.\n"
      ]
    },
    {
      "cell_type": "markdown",
      "metadata": {
        "id": "XWvfYVDGGBrd",
        "colab_type": "text"
      },
      "source": [
        "### 2. \"Hola Mundo\" en Python\n",
        "Ahora, escribiremos nuestro primer programa en Python, un script sencillo que muestra en pantalla el texto \"Hola Mundo\":"
      ]
    },
    {
      "cell_type": "code",
      "metadata": {
        "id": "rDBAbBnH_3Sg",
        "colab_type": "code",
        "colab": {
          "base_uri": "https://localhost:8080/",
          "height": 34
        },
        "outputId": "630785f0-11d3-4910-e44e-7fa24f0b1857"
      },
      "source": [
        "print(\"Hola Mundo!\")"
      ],
      "execution_count": 20,
      "outputs": [
        {
          "output_type": "stream",
          "text": [
            "Hola Mundo!\n"
          ],
          "name": "stdout"
        }
      ]
    },
    {
      "cell_type": "markdown",
      "metadata": {
        "id": "zsMKjKiCG5n0",
        "colab_type": "text"
      },
      "source": [
        "### 3. Comentarios en el código\n",
        "Podemos hacer comentarios en nuestro código. Estos comentarios no son interpretados por el lenguaje pero nos permiten recordar que hacemos en cada porción de código. Utilizar comentarios es una buena práctica de programación."
      ]
    },
    {
      "cell_type": "code",
      "metadata": {
        "id": "Fp61JELMHmRa",
        "colab_type": "code",
        "colab": {
          "base_uri": "https://localhost:8080/",
          "height": 34
        },
        "outputId": "f92321ce-f525-4538-ed9d-9fc320f2c7ae"
      },
      "source": [
        "print(\"Hola Mundo!\") # Esto es un comentario\n",
        "# print(\"Qué hace esta línea de código?\")"
      ],
      "execution_count": 21,
      "outputs": [
        {
          "output_type": "stream",
          "text": [
            "Hola Mundo!\n"
          ],
          "name": "stdout"
        }
      ]
    },
    {
      "cell_type": "markdown",
      "metadata": {
        "id": "3mYfjlAFJQs0",
        "colab_type": "text"
      },
      "source": [
        "### 4. Salidas básicas en Pantalla\n",
        "Como vimos en el programita anterior, podemos mostrar textos, números y resultados de operaciones, entre otras cosas, por pantalla. La instrucción básica que permtie esto es _print_.\n",
        "\n",
        "__Uso básico de _print_:__"
      ]
    },
    {
      "cell_type": "code",
      "metadata": {
        "id": "F_6ezzzNJQD6",
        "colab_type": "code",
        "colab": {
          "base_uri": "https://localhost:8080/",
          "height": 51
        },
        "outputId": "3e841dd9-a594-49ff-ee52-df2eb2aaf2fd"
      },
      "source": [
        "print(\"Carpe\")\n",
        "print(\"diem\")"
      ],
      "execution_count": 22,
      "outputs": [
        {
          "output_type": "stream",
          "text": [
            "Carpe\n",
            "diem\n"
          ],
          "name": "stdout"
        }
      ]
    },
    {
      "cell_type": "markdown",
      "metadata": {
        "id": "0udC-1NMKCKK",
        "colab_type": "text"
      },
      "source": [
        "___Printear_ (mostrar) en la misma línea:__"
      ]
    },
    {
      "cell_type": "code",
      "metadata": {
        "id": "nmpqZB31J6JG",
        "colab_type": "code",
        "colab": {
          "base_uri": "https://localhost:8080/",
          "height": 51
        },
        "outputId": "d321d47f-5419-492a-c340-50a966fab5d4"
      },
      "source": [
        "# Podemos separar múltiples valores entre comas (\",\")\n",
        "print(\"Carpe\", \"diem\")\n",
        "\n",
        "# También podemos usar el parámetro end=\"\" si queremos que aparezca en la misma línea\n",
        "print(\"Carpe \", end=\"\")\n",
        "print(\"diem\")"
      ],
      "execution_count": 23,
      "outputs": [
        {
          "output_type": "stream",
          "text": [
            "Carpe diem\n",
            "Carpe diem\n"
          ],
          "name": "stdout"
        }
      ]
    },
    {
      "cell_type": "markdown",
      "metadata": {
        "id": "wechVjeNKd89",
        "colab_type": "text"
      },
      "source": [
        "__Imprimir usando cadenas _\"f\"_:__\n",
        "\n",
        "Las cadenas f proporcionan una forma sencilla de integrar variables y expresiones dentro de una cadena de texto de forma muy sencilla."
      ]
    },
    {
      "cell_type": "code",
      "metadata": {
        "id": "dN1iL1hCLjRg",
        "colab_type": "code",
        "colab": {
          "base_uri": "https://localhost:8080/",
          "height": 34
        },
        "outputId": "dac49b05-538f-4ab6-d46e-fdc81ed575d2"
      },
      "source": [
        "x = 22\n",
        "y = 42\n",
        "# Podemos poner los nombres de variables entre {llaves} para imprimir valores:\n",
        "print(f'Sabías que {x} + {y} es {x+y}?')"
      ],
      "execution_count": 24,
      "outputs": [
        {
          "output_type": "stream",
          "text": [
            "Sabías que 22 + 42 es 64?\n"
          ],
          "name": "stdout"
        }
      ]
    },
    {
      "cell_type": "markdown",
      "metadata": {
        "id": "Wjta-tS_M9zp",
        "colab_type": "text"
      },
      "source": [
        "### 5. Importación de módulos\n",
        "Los lenguajes de programación cuentan con módulos que permiten reutilizar código de otros programadores así como invocar funciones complejas ya existentes en el lenguaje.\n",
        "\n",
        "Por ejemplo, existe un módulo _math_ que cuenta con operaciones matemáticas ya definidas para que podamos usarlas sin necesidad de programar como se hace la operación:"
      ]
    },
    {
      "cell_type": "code",
      "metadata": {
        "id": "PKjQIkB4OlqQ",
        "colab_type": "code",
        "colab": {
          "base_uri": "https://localhost:8080/",
          "height": 34
        },
        "outputId": "bbdce6bf-de7a-46f3-8871-4d8bbaa9b370"
      },
      "source": [
        "# Si queremos usar la función factorial podemos hacerlo de la siguiente manera:\n",
        "print(math.factorial(5))"
      ],
      "execution_count": 25,
      "outputs": [
        {
          "output_type": "stream",
          "text": [
            "120\n"
          ],
          "name": "stdout"
        }
      ]
    },
    {
      "cell_type": "markdown",
      "metadata": {
        "id": "kZ7WyPa9PLbp",
        "colab_type": "text"
      },
      "source": [
        "__¿Qué sucedió?__ El error anterior se debe a que primero debemos importar el módulo _math_ de la siguiente manera:"
      ]
    },
    {
      "cell_type": "code",
      "metadata": {
        "id": "E0-qMBVVPTjP",
        "colab_type": "code",
        "colab": {
          "base_uri": "https://localhost:8080/",
          "height": 34
        },
        "outputId": "683de69a-f640-413f-a028-2bb5e55169ca"
      },
      "source": [
        "import math\n",
        "\n",
        "print(math.factorial(5))  # Ahora si! Mucho mejor..."
      ],
      "execution_count": 26,
      "outputs": [
        {
          "output_type": "stream",
          "text": [
            "120\n"
          ],
          "name": "stdout"
        }
      ]
    },
    {
      "cell_type": "markdown",
      "metadata": {
        "id": "ZJPblvkGSN_d",
        "colab_type": "text"
      },
      "source": [
        "## 6. Errores de sintaxis, de tiempo de ejecución (runtime) y lógicos (o semánticos)\n",
        "\n",
        "Lamentablemente, cuando programamos tendremos errores. Podríamos categorizar a los errores en tres tipos: de sintaxis, de runtime y lógicos (o semánticos):\n",
        "\n",
        "__Errores de sintaxis:__ estos errores se dan cuando el compilador/intérprete del lenguaje de programación no entiende lo que \"le queremos decir\"."
      ]
    },
    {
      "cell_type": "code",
      "metadata": {
        "id": "UssYjP3DTh8Z",
        "colab_type": "code",
        "colab": {
          "base_uri": "https://localhost:8080/",
          "height": 129
        },
        "outputId": "e5a74a91-5088-4ccb-be9c-9c5b06a3a57d"
      },
      "source": [
        "# En la siguiente línea de código olvidaremos voluntariamente la comilla final\n",
        "# en el texto \"Uh oh!\"\n",
        "\n",
        "print(\"Uh oh!) # ERROR! missing close-quote\n",
        "\n",
        "# Python output:\n",
        "#   SyntaxError: EOL while scanning string literal"
      ],
      "execution_count": 27,
      "outputs": [
        {
          "output_type": "error",
          "ename": "SyntaxError",
          "evalue": "ignored",
          "traceback": [
            "\u001b[0;36m  File \u001b[0;32m\"<ipython-input-27-483bd564d680>\"\u001b[0;36m, line \u001b[0;32m2\u001b[0m\n\u001b[0;31m    print(\"Uh oh!) # ERROR! missing close-quote\u001b[0m\n\u001b[0m                                               ^\u001b[0m\n\u001b[0;31mSyntaxError\u001b[0m\u001b[0;31m:\u001b[0m EOL while scanning string literal\n"
          ]
        }
      ]
    },
    {
      "cell_type": "markdown",
      "metadata": {
        "id": "DgrumfGZUGnU",
        "colab_type": "text"
      },
      "source": [
        "__Errores de runtime (tiempo de ejecución):__ estos errores se dan cuando las condiciones a las que llega el programa generan un error para un set de datos determinado."
      ]
    },
    {
      "cell_type": "code",
      "metadata": {
        "id": "oZqb1VyoUP15",
        "colab_type": "code",
        "colab": {}
      },
      "source": [
        "print(1/0) # ERROR!  Division by zero!\n",
        "\n",
        "# Python output:\n",
        "#   ZeroDivisionError: integer division or modulo by zero"
      ],
      "execution_count": 0,
      "outputs": []
    },
    {
      "cell_type": "markdown",
      "metadata": {
        "id": "xtktqhggUWxR",
        "colab_type": "text"
      },
      "source": [
        "__Errores de lógicos (o semánticos):__ estos errores se dan cuando el lenguaje entiende lo que tiene que hacer, lo hace pero no es lo que esperamos que haga."
      ]
    },
    {
      "cell_type": "code",
      "metadata": {
        "id": "SbQHmhXzWHB_",
        "colab_type": "code",
        "colab": {}
      },
      "source": [
        "print(\"2+2=5\") # ERROR!  Es incorrecto!!!\n",
        "\n",
        "# Salida de Python:\n",
        "#   2+2=5"
      ],
      "execution_count": 0,
      "outputs": []
    },
    {
      "cell_type": "markdown",
      "metadata": {
        "id": "-4n2-Nw-XhzD",
        "colab_type": "text"
      },
      "source": [
        "### Entrada de Datos Básica\n",
        "\n",
        "En los lenguajes de programación vamos a necesitar ingresar datos para resolver problemas. En Python, podemos solicitar la entrada de datos por teclado con la instrucción _input_.\n",
        "\n",
        "__Podemos ingresar textos (a partir de ahora _strings_):__"
      ]
    },
    {
      "cell_type": "code",
      "metadata": {
        "id": "6nzMO1ESYVCw",
        "colab_type": "code",
        "colab": {}
      },
      "source": [
        "# Ingresa un texto\n",
        "nombre = input(\"Enter your name: \")\n",
        "\n",
        "# Lo muestra en pantalla\n",
        "print(\"Tu nombre es:\", nombre)"
      ],
      "execution_count": 0,
      "outputs": []
    },
    {
      "cell_type": "markdown",
      "metadata": {
        "id": "3it7YCQLY7qv",
        "colab_type": "text"
      },
      "source": [
        "__Si ingresamos números debemos tener cuidado:__\n",
        "Python por defecto lo guardará como string (texto).\n"
      ]
    },
    {
      "cell_type": "code",
      "metadata": {
        "id": "XQ-DmG3nZHSw",
        "colab_type": "code",
        "colab": {}
      },
      "source": [
        "x = input(\"Ingrese un número: \")\n",
        "print(f\"La mitad de {x} es {x/2}\") # Error!"
      ],
      "execution_count": 0,
      "outputs": []
    },
    {
      "cell_type": "markdown",
      "metadata": {
        "id": "oZxRpIypZeOL",
        "colab_type": "text"
      },
      "source": [
        "Resolvemos esto con la función _int_, que convertirá el dato a numérico:"
      ]
    },
    {
      "cell_type": "code",
      "metadata": {
        "id": "GjDNjAneZmfd",
        "colab_type": "code",
        "colab": {}
      },
      "source": [
        "# Agregamos la función int()\n",
        "x = int(input(\"Ingrese un número: \"))\n",
        "\n",
        "# Mostramos la mitad en pantalla\n",
        "print(f\"La mitad de {x} es {x/2}\") # Ahora funciona!\n"
      ],
      "execution_count": 0,
      "outputs": []
    }
  ]
}