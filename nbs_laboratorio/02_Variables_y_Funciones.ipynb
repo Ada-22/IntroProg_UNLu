{
 "nbformat": 4,
 "nbformat_minor": 2,
 "metadata": {
  "language_info": {
   "name": "python",
   "codemirror_mode": {
    "name": "ipython",
    "version": 3
   },
   "version": "3.7.5-final"
  },
  "orig_nbformat": 2,
  "file_extension": ".py",
  "mimetype": "text/x-python",
  "name": "python",
  "npconvert_exporter": "python",
  "pygments_lexer": "ipython3",
  "version": 3,
  "kernelspec": {
   "name": "python3",
   "display_name": "Python 3"
  }
 },
 "cells": [
  {
   "cell_type": "markdown",
   "execution_count": null,
   "metadata": {},
   "outputs": [],
   "source": [
    "<a href=\"https://colab.research.google.com/github/jumafernandez/IntroProg_UNLu/blob/master/nbs_laboratorio/02_Variables_y_Funciones.ipynb\"\n",
    "   target=\"_parent\" style=\"float: left\">\n",
    "<img src=\"https://colab.research.google.com/assets/colab-badge.svg\" alt=\"Open In Colab\"/>\n",
    "</a>\n",
    "\n",
    "# Variables y Funciones\n",
    "---\n",
    "\n"
   ]
  },
  {
   "cell_type": "markdown",
   "execution_count": null,
   "metadata": {},
   "outputs": [],
   "source": [
    "## Variables\n",
    "\n",
    "**\n",
    "Una variable es un valor nombrado que referencia o guarda información.\n",
    "**"
   ]
  },
  {
   "cell_type": "code",
   "execution_count": null,
   "metadata": {},
   "outputs": [],
   "source": [
    "# Colocamos un valor en una variable usando el = \n",
    "x = 5\n",
    "\n",
    "print(x)        # imprime 5\n",
    "print(x*2)      # multiplica x por 2, imprime 10"
   ]
  },
  {
   "cell_type": "markdown",
   "execution_count": null,
   "metadata": {},
   "outputs": [],
   "source": [
    "**\n",
    "A diferencia de lo visto en Matemática, las variables pueden tener valores de diferentes tipos.\n",
    "**"
   ]
  },
  {
   "cell_type": "code",
   "execution_count": null,
   "metadata": {},
   "outputs": [],
   "source": [
    "y = 10\n",
    "print(y - 2)\n",
    "\n",
    "y = True\n",
    "print(y)"
   ]
  },
  {
   "cell_type": "markdown",
   "execution_count": null,
   "metadata": {},
   "outputs": [],
   "source": [
    "**\n",
    "Las variables pueden tener cualquier nombre pero deben comenzar con una letra y no contener caracteres especiales.\n",
    "**"
   ]
  },
  {
   "cell_type": "code",
   "execution_count": null,
   "metadata": {},
   "outputs": [],
   "source": [
    "numeros_de_conejos = 40\n",
    "curso_habilitado = True\n",
    "99problemas = 0         # Explota porque comienza con un número"
   ]
  },
  {
   "cell_type": "markdown",
   "execution_count": null,
   "metadata": {},
   "outputs": [],
   "source": [
    "**\n",
    "Las variables pueden ser actualizadas utilizando operaciones de asignación.\n",
    "**\n"
   ]
  },
  {
   "cell_type": "code",
   "execution_count": null,
   "metadata": {},
   "outputs": [],
   "source": [
    "x = 5\n",
    "x += 2      # Igual que x = x + 2\n",
    "print(x)    # Debería ser 7\n",
    "\n",
    "# Podemos utilizar cualquier operación aritmética.\n",
    "\n",
    "y = 350\n",
    "y //= 10\n",
    "print(y)        # Debería ser 35"
   ]
  },
  {
   "cell_type": "markdown",
   "execution_count": null,
   "metadata": {},
   "outputs": [],
   "source": [
    "## Declaraciones y Expresiones \n",
    "**\n",
    "Una expresión es un valor o una operación que retorna un valor.\n",
    "**"
   ]
  },
  {
   "cell_type": "code",
   "execution_count": null,
   "metadata": {},
   "outputs": [],
   "source": [
    "# Ejemplos de expresiones.\n",
    "# Note que cuando es ejecutado ninguno de ellos es mostrado.\n",
    "\n",
    "4\n",
    "\"Hola Mundo\"\n",
    "7 + 2\n",
    "True or False\n",
    "(2 < 3) and (9 > 0)"
   ]
  },
  {
   "cell_type": "markdown",
   "execution_count": null,
   "metadata": {},
   "outputs": [],
   "source": [
    "**\n",
    "Una declaración es una línea de código que ejecuta una acción. Al contrario que las expresiones, las declaraciones no pueden ser usadas en operaciones.\n",
    "**"
   ]
  },
  {
   "cell_type": "code",
   "execution_count": null,
   "metadata": {},
   "outputs": [],
   "source": [
    "# Ejemplo de Declaraciones.\n",
    "\n",
    "print(4)\n",
    "x = True"
   ]
  },
  {
   "cell_type": "markdown",
   "execution_count": null,
   "metadata": {},
   "outputs": [],
   "source": [
    "## Funciones\n",
    "\n",
    "**\n",
    "Una función es un procedimiento (una secuencia de _declaraciones_) guardada bajo un nombre que puede ser usada una y otra vez llamandola por el mismo.\n",
    "**\n"
   ]
  },
  {
   "cell_type": "code",
   "execution_count": null,
   "metadata": {},
   "outputs": [],
   "source": [
    "# Una función está compuesta por dos partes: el encabezado y el cuerpo\n",
    "\n",
    "# El encabezado (también se lo llama firma) define el nombre y los parametros.\n",
    "# Un encabezado de una función es escrito como sigue:\n",
    "#\n",
    "#   def nombre_de_funcion(parametros):\n",
    "#\n",
    "# Los parametros son variables que serán provistas cuando la función es llamada.\n",
    "# El encabezado termina con dos puntos (:) para indicar que continua el cuerpo \n",
    "# de la función.\n",
    "#\n",
    "# El Cuerpo contiene las acciones (declaraciones [statements]) que ejecutará la función.\n",
    "# El cuerpo es escrito debajo del encabezado con indentación (En Español: sangrado)\n",
    "# Cuando las lineas dejan de tener la indentación la función termina.\n",
    "#\n",
    "# Las funciones usualmente contiene un declaración return al final.\n",
    "# Esto proveerá el resultado cuando la función sea llamada.\n",
    "\n",
    "# Ejemplo:\n",
    "\n",
    "def duplica(x):\n",
    "    print(\"Soy la función duplicadora!\")\n",
    "    return 2 * x\n",
    "\n",
    "# Para llamar a una función usamos el nombre de la función\n",
    "# seguido por los parentesis con los valores que queremos usar (argumentos).\n",
    "\n",
    "print(duplica(2))       # Imprimirá 4\n",
    "print(duplica(5))       # Imprimirá 10\n",
    "print(duplica(1) + 3)   # Imprimirá 5"
   ]
  },
  {
   "cell_type": "markdown",
   "execution_count": null,
   "metadata": {},
   "outputs": [],
   "source": [
    "**\n",
    "Las funciones pueden tener los parámetros que necesitemos o ninguno.\n",
    "**\n"
   ]
  },
  {
   "cell_type": "code",
   "execution_count": null,
   "metadata": {},
   "outputs": [],
   "source": [
    "def f(x, y, z):\n",
    "    return x + y + z\n",
    "\n",
    "print(f(1, 3, 2)) # retorna 6\n",
    "\n",
    "def g():\n",
    "    return 42\n",
    "\n",
    "print(g()) # retorna 42\n",
    "\n",
    "# Nota - el número de argumentos provistos debe coincidir con el número de parámetros!\n",
    "print(g(2))         # No funciona.\n",
    "print(f(1, 2))      # Tampoco funcionará."
   ]
  },
  {
   "cell_type": "markdown",
   "execution_count": null,
   "metadata": {},
   "outputs": [],
   "source": [
    "## Funciones Incorporadas (builtins)\n"
   ]
  },
  {
   "cell_type": "code",
   "execution_count": null,
   "metadata": {},
   "outputs": [],
   "source": [
    "# Algunas funciones ya son provistas por el interprete Python\n",
    "\n",
    "print(\"Funciones para conversión de Tipo:\")\n",
    "print(bool(0))   # convierte a boolean (True or False)\n",
    "print(float(42)) # convierte a real\n",
    "print(int(2.8))  # convierte a entero (int)\n",
    "\n",
    "print(\"Y algunas funciones matemáticas basicas:\")\n",
    "print(abs(-5))   # valor absoluto\n",
    "print(max(2,3))  # retorna el máximo valor\n",
    "print(min(2,3))  # retorna el mínimo valor\n",
    "print(pow(2,3))  # eleva a potencia dada (pow(x,y) == x**y)\n",
    "print(round(2.354, 1)) # redondea con el número de digitos"
   ]
  },
  {
   "cell_type": "markdown",
   "execution_count": null,
   "metadata": {},
   "outputs": [],
   "source": [
    "## Funciones en otros módulos\n"
   ]
  },
  {
   "cell_type": "markdown",
   "execution_count": null,
   "metadata": {},
   "outputs": [],
   "source": [
    "## Alcance de las variables (scope)\n"
   ]
  },
  {
   "cell_type": "markdown",
   "execution_count": null,
   "metadata": {},
   "outputs": [],
   "source": [
    "## Retornando Valores"
   ]
  },
  {
   "cell_type": "markdown",
   "execution_count": null,
   "metadata": {},
   "outputs": [],
   "source": [
    "## Imprimir vs. Retornar\n"
   ]
  },
  {
   "cell_type": "markdown",
   "execution_count": null,
   "metadata": {},
   "outputs": [],
   "source": [
    "## Composición de funciones"
   ]
  },
  {
   "cell_type": "markdown",
   "execution_count": null,
   "metadata": {},
   "outputs": [],
   "source": [
    "## Funciones Auxiliares (helpers)"
   ]
  },
  {
   "cell_type": "markdown",
   "execution_count": null,
   "metadata": {},
   "outputs": [],
   "source": [
    "## Funciones recomendadas"
   ]
  },
  {
   "cell_type": "markdown",
   "execution_count": null,
   "metadata": {},
   "outputs": [],
   "source": [
    "## Funciones Test\n"
   ]
  },
  {
   "cell_type": "code",
   "execution_count": null,
   "metadata": {},
   "outputs": [],
   "source": []
  }
 ]
}